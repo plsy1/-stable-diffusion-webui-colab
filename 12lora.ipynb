{
  "cells": [
    {
      "cell_type": "code",
      "execution_count": null,
      "metadata": {
        "id": "SaAJk33ppFw1"
      },
      "outputs": [],
      "source": [
        "!pip install --upgrade fastapi==0.90.0\n",
        "!git clone https://github.com/AUTOMATIC1111/stable-diffusion-webui\n",
        "!git clone https://github.com/yfszzx/stable-diffusion-webui-images-browser /content/stable-diffusion-webui/extensions/stable-diffusion-webui-images-browser\n",
        "!curl -Lo chilloutmixni.safetensors https://huggingface.co/nolanaatama/chomni/resolve/main/chomni.safetensors\n",
        "!curl -Lo ulzzang-6500.pt https://huggingface.co/nolanaatama/chomni/resolve/main/ulzzang-6500.pt\n",
        "!mv \"/content/chilloutmixni.safetensors\" \"/content/stable-diffusion-webui/models/Stable-diffusion\"\n",
        "!mv \"/content/ulzzang-6500.pt\" \"/content/stable-diffusion-webui/embeddings\"\n",
        "%cd /content/stable-diffusion-webui\n",
        "\n",
        "!mkdir /content/stable-diffusion-webui/models/Lora\n",
        "\n",
        "!wget https://civitai.com/api/download/models/8750 -O /content/stable-diffusion-webui/models/Lora/koreanDollLikeness_v10.safetensors\n",
        "!wget https://civitai.com/api/download/models/9070 -O /content/stable-diffusion-webui/models/Lora/taiwanDollLikeness_v10.safetensors\n",
        "!wget https://civitai.com/api/download/models/11250 -O /content/stable-diffusion-webui/models/Lora/gakkiAragakiYui_v2.safetensors\n",
        "!wget https://civitai.com/api/download/models/12638 -O /content/stable-diffusion-webui/models/Lora/kagurazakaMayufuLora_v01.safetensors\n",
        "!wget https://civitai.com/api/download/models/11885 -O /content/stable-diffusion-webui/models/Lora/liyuuLora_liyuuV1.safetensors\n",
        "!wget https://civitai.com/api/download/models/12277 -O /content/stable-diffusion-webui/models/Lora/realisticVaginasGodPussy_sdVSGp2I.safetensors\n",
        "!wget https://civitai.com/api/download/models/9042 -O /content/stable-diffusion-webui/models/Lora/realisticTitfuck_titfuckRealisticEpoch.safetensors\n",
        "!wget https://civitai.com/api/download/models/12050 -O /content/stable-diffusion-webui/models/Lora/japaneseDollLikeness_v10.safetensors\n",
        "!wget https://civitai.com/api/download/models/12041 -O /content/stable-diffusion-webui/models/Lora/nudify_v12.safetensors\n",
        "!wget https://civitai.com/api/download/models/12873 -O /content/stable-diffusion-webui/models/Lora/inniesBetterVaginas_v11.safetensors\n",
        "!wget https://civitai.com/api/download/models/10976 -O /content/stable-diffusion-webui/models/Lora/ahegaoRollingEyes_v1114.safetensors\n",
        "!wget https://civitai.com/api/download/models/7870 -O /content/stable-diffusion-webui/models/Lora/shirtliftALORAFor_shirtliftv1.safetensors\n",
        "\n",
        "\n",
        "\n",
        "!COMMANDLINE_ARGS=\"--share --disable-safe-unpickle --no-half-vae --xformers --reinstall-xformers --enable-insecure-extension-access\" REQS_FILE=\"requirements.txt\" python launch.py\n",
        "\n",
        "\n",
        "\n"
      ]
    }
  ],
  "metadata": {
    "accelerator": "GPU",
    "colab": {
      "private_outputs": true,
      "provenance": []
    },
    "gpuClass": "standard",
    "kernelspec": {
      "display_name": "Python 3",
      "name": "python3"
    },
    "language_info": {
      "name": "python"
    }
  },
  "nbformat": 4,
  "nbformat_minor": 0
}